{
 "cells": [
  {
   "cell_type": "markdown",
   "metadata": {},
   "source": [
    "> **Tip**: Welcome to the Investigate a Dataset project! You will find tips in quoted sections like this to help organize your approach to your investigation. Before submitting your project, it will be a good idea to go back through your report and remove these sections to make the presentation of your work as tidy as possible. First things first, you might want to double-click this Markdown cell and change the title so that it reflects your dataset and investigation.\n",
    "\n",
    "# Project: Investigate The Movie Database\n",
    "\n",
    "## Table of Contents\n",
    "<ul>\n",
    "<li><a href=\"#intro\">Introduction</a></li>\n",
    "<li><a href=\"#wrangling\">Data Wrangling</a></li>\n",
    "<li><a href=\"#eda\">Exploratory Data Analysis</a></li>\n",
    "<li><a href=\"#conclusions\">Conclusions</a></li>\n",
    "</ul>"
   ]
  },
  {
   "cell_type": "markdown",
   "metadata": {},
   "source": [
    "<a id='intro'></a>\n",
    "## Introduction\n",
    "\n",
    "> **Tip**: In this section of the report, provide a brief introduction to the dataset you've selected for analysis. At the end of this section, describe the questions that you plan on exploring over the course of the report. Try to build your report around the analysis of at least one dependent variable and three independent variables.\n",
    "\n",
    "\n",
    "I have picked up The movie database. It contains 21 columns with 10,866 unique movies. We have got information from movie's metadata:\n",
    "- Duration\n",
    "- budget\n",
    "- genre\n",
    "- casts etc\n",
    "\n",
    "And its performance\n",
    "- ratings\n",
    "- revenue\n",
    "- profit (revenue - budget)\n",
    "\n",
    "I'ld like to:\n",
    "1. Get more insights on duration of movies in general. Trend between duration and rating\n",
    "2. Does longer duration movie require more budget?\n",
    "3. Does higher budget produce more profit? Does higher budget have better profit% too?\n",
    "4. How have critics perceived movie, over the years?\n",
    "5. Multiple-variable (2d) exploration: correlation of popularity and budget together on revenue\n"
   ]
  },
  {
   "cell_type": "code",
   "execution_count": 151,
   "metadata": {},
   "outputs": [],
   "source": [
    "# Use this cell to set up import statements for all of the packages that you\n",
    "#   plan to use.\n",
    "\n",
    "# Remember to include a 'magic word' so that your visualizations are plotted\n",
    "#   inline with the notebook. See this page for more:\n",
    "#   http://ipython.readthedocs.io/en/stable/interactive/magics.html\n",
    "\n",
    "import matplotlib.pyplot as plt\n",
    "import numpy as np\n",
    "import pandas as pd\n",
    "import seaborn as sns"
   ]
  },
  {
   "cell_type": "markdown",
   "metadata": {},
   "source": [
    "<a id='wrangling'></a>\n",
    "## Data Wrangling\n",
    "\n",
    "> **Tip**: In this section of the report, you will load in the data, check for cleanliness, and then trim and clean your dataset for analysis. Make sure that you document your steps carefully and justify your cleaning decisions.\n",
    "\n",
    "### General Properties"
   ]
  },
  {
   "cell_type": "code",
   "execution_count": 152,
   "metadata": {},
   "outputs": [
    {
     "data": {
      "text/html": [
       "<div>\n",
       "<style scoped>\n",
       "    .dataframe tbody tr th:only-of-type {\n",
       "        vertical-align: middle;\n",
       "    }\n",
       "\n",
       "    .dataframe tbody tr th {\n",
       "        vertical-align: top;\n",
       "    }\n",
       "\n",
       "    .dataframe thead th {\n",
       "        text-align: right;\n",
       "    }\n",
       "</style>\n",
       "<table border=\"1\" class=\"dataframe\">\n",
       "  <thead>\n",
       "    <tr style=\"text-align: right;\">\n",
       "      <th></th>\n",
       "      <th>id</th>\n",
       "      <th>imdb_id</th>\n",
       "      <th>popularity</th>\n",
       "      <th>budget</th>\n",
       "      <th>revenue</th>\n",
       "      <th>original_title</th>\n",
       "      <th>cast</th>\n",
       "      <th>homepage</th>\n",
       "      <th>director</th>\n",
       "      <th>tagline</th>\n",
       "      <th>...</th>\n",
       "      <th>overview</th>\n",
       "      <th>runtime</th>\n",
       "      <th>genres</th>\n",
       "      <th>production_companies</th>\n",
       "      <th>release_date</th>\n",
       "      <th>vote_count</th>\n",
       "      <th>vote_average</th>\n",
       "      <th>release_year</th>\n",
       "      <th>budget_adj</th>\n",
       "      <th>revenue_adj</th>\n",
       "    </tr>\n",
       "  </thead>\n",
       "  <tbody>\n",
       "    <tr>\n",
       "      <th>0</th>\n",
       "      <td>135397</td>\n",
       "      <td>tt0369610</td>\n",
       "      <td>32.985763</td>\n",
       "      <td>150000000</td>\n",
       "      <td>1513528810</td>\n",
       "      <td>Jurassic World</td>\n",
       "      <td>Chris Pratt|Bryce Dallas Howard|Irrfan Khan|Vi...</td>\n",
       "      <td>http://www.jurassicworld.com/</td>\n",
       "      <td>Colin Trevorrow</td>\n",
       "      <td>The park is open.</td>\n",
       "      <td>...</td>\n",
       "      <td>Twenty-two years after the events of Jurassic ...</td>\n",
       "      <td>124</td>\n",
       "      <td>Action|Adventure|Science Fiction|Thriller</td>\n",
       "      <td>Universal Studios|Amblin Entertainment|Legenda...</td>\n",
       "      <td>6/9/15</td>\n",
       "      <td>5562</td>\n",
       "      <td>6.5</td>\n",
       "      <td>2015</td>\n",
       "      <td>1.379999e+08</td>\n",
       "      <td>1.392446e+09</td>\n",
       "    </tr>\n",
       "    <tr>\n",
       "      <th>1</th>\n",
       "      <td>76341</td>\n",
       "      <td>tt1392190</td>\n",
       "      <td>28.419936</td>\n",
       "      <td>150000000</td>\n",
       "      <td>378436354</td>\n",
       "      <td>Mad Max: Fury Road</td>\n",
       "      <td>Tom Hardy|Charlize Theron|Hugh Keays-Byrne|Nic...</td>\n",
       "      <td>http://www.madmaxmovie.com/</td>\n",
       "      <td>George Miller</td>\n",
       "      <td>What a Lovely Day.</td>\n",
       "      <td>...</td>\n",
       "      <td>An apocalyptic story set in the furthest reach...</td>\n",
       "      <td>120</td>\n",
       "      <td>Action|Adventure|Science Fiction|Thriller</td>\n",
       "      <td>Village Roadshow Pictures|Kennedy Miller Produ...</td>\n",
       "      <td>5/13/15</td>\n",
       "      <td>6185</td>\n",
       "      <td>7.1</td>\n",
       "      <td>2015</td>\n",
       "      <td>1.379999e+08</td>\n",
       "      <td>3.481613e+08</td>\n",
       "    </tr>\n",
       "    <tr>\n",
       "      <th>2</th>\n",
       "      <td>262500</td>\n",
       "      <td>tt2908446</td>\n",
       "      <td>13.112507</td>\n",
       "      <td>110000000</td>\n",
       "      <td>295238201</td>\n",
       "      <td>Insurgent</td>\n",
       "      <td>Shailene Woodley|Theo James|Kate Winslet|Ansel...</td>\n",
       "      <td>http://www.thedivergentseries.movie/#insurgent</td>\n",
       "      <td>Robert Schwentke</td>\n",
       "      <td>One Choice Can Destroy You</td>\n",
       "      <td>...</td>\n",
       "      <td>Beatrice Prior must confront her inner demons ...</td>\n",
       "      <td>119</td>\n",
       "      <td>Adventure|Science Fiction|Thriller</td>\n",
       "      <td>Summit Entertainment|Mandeville Films|Red Wago...</td>\n",
       "      <td>3/18/15</td>\n",
       "      <td>2480</td>\n",
       "      <td>6.3</td>\n",
       "      <td>2015</td>\n",
       "      <td>1.012000e+08</td>\n",
       "      <td>2.716190e+08</td>\n",
       "    </tr>\n",
       "  </tbody>\n",
       "</table>\n",
       "<p>3 rows × 21 columns</p>\n",
       "</div>"
      ],
      "text/plain": [
       "       id    imdb_id  popularity     budget     revenue      original_title  \\\n",
       "0  135397  tt0369610   32.985763  150000000  1513528810      Jurassic World   \n",
       "1   76341  tt1392190   28.419936  150000000   378436354  Mad Max: Fury Road   \n",
       "2  262500  tt2908446   13.112507  110000000   295238201           Insurgent   \n",
       "\n",
       "                                                cast  \\\n",
       "0  Chris Pratt|Bryce Dallas Howard|Irrfan Khan|Vi...   \n",
       "1  Tom Hardy|Charlize Theron|Hugh Keays-Byrne|Nic...   \n",
       "2  Shailene Woodley|Theo James|Kate Winslet|Ansel...   \n",
       "\n",
       "                                         homepage          director  \\\n",
       "0                   http://www.jurassicworld.com/   Colin Trevorrow   \n",
       "1                     http://www.madmaxmovie.com/     George Miller   \n",
       "2  http://www.thedivergentseries.movie/#insurgent  Robert Schwentke   \n",
       "\n",
       "                      tagline      ...       \\\n",
       "0           The park is open.      ...        \n",
       "1          What a Lovely Day.      ...        \n",
       "2  One Choice Can Destroy You      ...        \n",
       "\n",
       "                                            overview runtime  \\\n",
       "0  Twenty-two years after the events of Jurassic ...     124   \n",
       "1  An apocalyptic story set in the furthest reach...     120   \n",
       "2  Beatrice Prior must confront her inner demons ...     119   \n",
       "\n",
       "                                      genres  \\\n",
       "0  Action|Adventure|Science Fiction|Thriller   \n",
       "1  Action|Adventure|Science Fiction|Thriller   \n",
       "2         Adventure|Science Fiction|Thriller   \n",
       "\n",
       "                                production_companies release_date vote_count  \\\n",
       "0  Universal Studios|Amblin Entertainment|Legenda...       6/9/15       5562   \n",
       "1  Village Roadshow Pictures|Kennedy Miller Produ...      5/13/15       6185   \n",
       "2  Summit Entertainment|Mandeville Films|Red Wago...      3/18/15       2480   \n",
       "\n",
       "   vote_average  release_year    budget_adj   revenue_adj  \n",
       "0           6.5          2015  1.379999e+08  1.392446e+09  \n",
       "1           7.1          2015  1.379999e+08  3.481613e+08  \n",
       "2           6.3          2015  1.012000e+08  2.716190e+08  \n",
       "\n",
       "[3 rows x 21 columns]"
      ]
     },
     "execution_count": 152,
     "metadata": {},
     "output_type": "execute_result"
    }
   ],
   "source": [
    "# Load your data and print out a few lines. Perform operations to inspect data\n",
    "#   types and look for instances of missing or possibly errant data.\n",
    "filename = 'tmdb-movies.csv'\n",
    "tmdb_df = pd.read_csv(filename)\n",
    "\n",
    "tmdb_df.head(3)"
   ]
  },
  {
   "cell_type": "code",
   "execution_count": 153,
   "metadata": {},
   "outputs": [
    {
     "data": {
      "text/plain": [
       "<bound method NDFrame.describe of            id    imdb_id  popularity     budget     revenue  \\\n",
       "0      135397  tt0369610   32.985763  150000000  1513528810   \n",
       "1       76341  tt1392190   28.419936  150000000   378436354   \n",
       "2      262500  tt2908446   13.112507  110000000   295238201   \n",
       "3      140607  tt2488496   11.173104  200000000  2068178225   \n",
       "4      168259  tt2820852    9.335014  190000000  1506249360   \n",
       "5      281957  tt1663202    9.110700  135000000   532950503   \n",
       "6       87101  tt1340138    8.654359  155000000   440603537   \n",
       "7      286217  tt3659388    7.667400  108000000   595380321   \n",
       "8      211672  tt2293640    7.404165   74000000  1156730962   \n",
       "9      150540  tt2096673    6.326804  175000000   853708609   \n",
       "10     206647  tt2379713    6.200282  245000000   880674609   \n",
       "11      76757  tt1617661    6.189369  176000003   183987723   \n",
       "12     264660  tt0470752    6.118847   15000000    36869414   \n",
       "13     257344  tt2120120    5.984995   88000000   243637091   \n",
       "14      99861  tt2395427    5.944927  280000000  1405035767   \n",
       "15     273248  tt3460252    5.898400   44000000   155760117   \n",
       "16     260346  tt2446042    5.749758   48000000   325771424   \n",
       "17     102899  tt0478970    5.573184  130000000   518602163   \n",
       "18     150689  tt1661199    5.556818   95000000   542351353   \n",
       "19     131634  tt1951266    5.476958  160000000   650523427   \n",
       "20     158852  tt1964418    5.462138  190000000   209035668   \n",
       "21     307081  tt1798684    5.337064   30000000    91709827   \n",
       "22     254128  tt2126355    4.907832  110000000   470490832   \n",
       "23     216015  tt2322441    4.710402   40000000   569651467   \n",
       "24     318846  tt1596363    4.648046   28000000   133346506   \n",
       "25     177677  tt2381249    4.566713  150000000   682330139   \n",
       "26     214756  tt2637276    4.564549   68000000   215863606   \n",
       "27     207703  tt2802144    4.503789   81000000   403802136   \n",
       "28     314365  tt1895587    4.062293   20000000    88346473   \n",
       "29     294254  tt4046784    3.968891   61000000   311256926   \n",
       "...       ...        ...         ...        ...         ...   \n",
       "10836   38720  tt0061170    0.239435          0           0   \n",
       "10837   19728  tt0060177    0.291704          0           0   \n",
       "10838   22383  tt0060862    0.151845          0           0   \n",
       "10839   13353  tt0060550    0.276133          0           0   \n",
       "10840   34388  tt0060437    0.102530          0           0   \n",
       "10841   42701  tt0062262    0.264925      75000           0   \n",
       "10842   36540  tt0061199    0.253437          0           0   \n",
       "10843   29710  tt0060588    0.252399          0           0   \n",
       "10844   23728  tt0059557    0.236098          0           0   \n",
       "10845    5065  tt0059014    0.230873          0           0   \n",
       "10846   17102  tt0059127    0.212716          0           0   \n",
       "10847   28763  tt0060548    0.034555          0           0   \n",
       "10848    2161  tt0060397    0.207257    5115000    12000000   \n",
       "10849   28270  tt0060445    0.206537          0           0   \n",
       "10850   26268  tt0060490    0.202473          0           0   \n",
       "10851   15347  tt0060182    0.342791          0           0   \n",
       "10852   37301  tt0060165    0.227220          0           0   \n",
       "10853   15598  tt0060086    0.163592          0           0   \n",
       "10854   31602  tt0060232    0.146402          0           0   \n",
       "10855   13343  tt0059221    0.141026     700000           0   \n",
       "10856   20277  tt0061135    0.140934          0           0   \n",
       "10857    5921  tt0060748    0.131378          0           0   \n",
       "10858   31918  tt0060921    0.317824          0           0   \n",
       "10859   20620  tt0060955    0.089072          0           0   \n",
       "10860    5060  tt0060214    0.087034          0           0   \n",
       "10861      21  tt0060371    0.080598          0           0   \n",
       "10862   20379  tt0060472    0.065543          0           0   \n",
       "10863   39768  tt0060161    0.065141          0           0   \n",
       "10864   21449  tt0061177    0.064317          0           0   \n",
       "10865   22293  tt0060666    0.035919      19000           0   \n",
       "\n",
       "                                         original_title  \\\n",
       "0                                        Jurassic World   \n",
       "1                                    Mad Max: Fury Road   \n",
       "2                                             Insurgent   \n",
       "3                          Star Wars: The Force Awakens   \n",
       "4                                             Furious 7   \n",
       "5                                          The Revenant   \n",
       "6                                    Terminator Genisys   \n",
       "7                                           The Martian   \n",
       "8                                               Minions   \n",
       "9                                            Inside Out   \n",
       "10                                              Spectre   \n",
       "11                                    Jupiter Ascending   \n",
       "12                                           Ex Machina   \n",
       "13                                               Pixels   \n",
       "14                              Avengers: Age of Ultron   \n",
       "15                                    The Hateful Eight   \n",
       "16                                              Taken 3   \n",
       "17                                              Ant-Man   \n",
       "18                                           Cinderella   \n",
       "19                The Hunger Games: Mockingjay - Part 2   \n",
       "20                                         Tomorrowland   \n",
       "21                                             Southpaw   \n",
       "22                                          San Andreas   \n",
       "23                                 Fifty Shades of Grey   \n",
       "24                                        The Big Short   \n",
       "25                   Mission: Impossible - Rogue Nation   \n",
       "26                                                Ted 2   \n",
       "27                         Kingsman: The Secret Service   \n",
       "28                                            Spotlight   \n",
       "29                       Maze Runner: The Scorch Trials   \n",
       "...                                                 ...   \n",
       "10836                                    Walk Don't Run   \n",
       "10837                                      The Blue Max   \n",
       "10838                                 The Professionals   \n",
       "10839             It's the Great Pumpkin, Charlie Brown   \n",
       "10840                                 Funeral in Berlin   \n",
       "10841                                      The Shooting   \n",
       "10842                Winnie the Pooh and the Honey Tree   \n",
       "10843                                          Khartoum   \n",
       "10844                                     Our Man Flint   \n",
       "10845                                   Carry On Cowboy   \n",
       "10846                       Dracula: Prince of Darkness   \n",
       "10847                                  Island of Terror   \n",
       "10848                                  Fantastic Voyage   \n",
       "10849                                            Gambit   \n",
       "10850                                            Harper   \n",
       "10851                                         Born Free   \n",
       "10852                    A Big Hand for the Little Lady   \n",
       "10853                                             Alfie   \n",
       "10854                                         The Chase   \n",
       "10855                           The Ghost & Mr. Chicken   \n",
       "10856                                The Ugly Dachshund   \n",
       "10857                                      Nevada Smith   \n",
       "10858  The Russians Are Coming, The Russians Are Coming   \n",
       "10859                                           Seconds   \n",
       "10860                               Carry On Screaming!   \n",
       "10861                                The Endless Summer   \n",
       "10862                                        Grand Prix   \n",
       "10863                               Beregis Avtomobilya   \n",
       "10864                            What's Up, Tiger Lily?   \n",
       "10865                          Manos: The Hands of Fate   \n",
       "\n",
       "                                                    cast  \\\n",
       "0      Chris Pratt|Bryce Dallas Howard|Irrfan Khan|Vi...   \n",
       "1      Tom Hardy|Charlize Theron|Hugh Keays-Byrne|Nic...   \n",
       "2      Shailene Woodley|Theo James|Kate Winslet|Ansel...   \n",
       "3      Harrison Ford|Mark Hamill|Carrie Fisher|Adam D...   \n",
       "4      Vin Diesel|Paul Walker|Jason Statham|Michelle ...   \n",
       "5      Leonardo DiCaprio|Tom Hardy|Will Poulter|Domhn...   \n",
       "6      Arnold Schwarzenegger|Jason Clarke|Emilia Clar...   \n",
       "7      Matt Damon|Jessica Chastain|Kristen Wiig|Jeff ...   \n",
       "8      Sandra Bullock|Jon Hamm|Michael Keaton|Allison...   \n",
       "9      Amy Poehler|Phyllis Smith|Richard Kind|Bill Ha...   \n",
       "10     Daniel Craig|Christoph Waltz|LÃ©a Seydoux|Ralp...   \n",
       "11     Mila Kunis|Channing Tatum|Sean Bean|Eddie Redm...   \n",
       "12     Domhnall Gleeson|Alicia Vikander|Oscar Isaac|S...   \n",
       "13     Adam Sandler|Michelle Monaghan|Peter Dinklage|...   \n",
       "14     Robert Downey Jr.|Chris Hemsworth|Mark Ruffalo...   \n",
       "15     Samuel L. Jackson|Kurt Russell|Jennifer Jason ...   \n",
       "16     Liam Neeson|Forest Whitaker|Maggie Grace|Famke...   \n",
       "17     Paul Rudd|Michael Douglas|Evangeline Lilly|Cor...   \n",
       "18     Lily James|Cate Blanchett|Richard Madden|Helen...   \n",
       "19     Jennifer Lawrence|Josh Hutcherson|Liam Hemswor...   \n",
       "20     Britt Robertson|George Clooney|Raffey Cassidy|...   \n",
       "21     Jake Gyllenhaal|Rachel McAdams|Forest Whitaker...   \n",
       "22     Dwayne Johnson|Alexandra Daddario|Carla Gugino...   \n",
       "23     Dakota Johnson|Jamie Dornan|Jennifer Ehle|Eloi...   \n",
       "24     Christian Bale|Steve Carell|Ryan Gosling|Brad ...   \n",
       "25     Tom Cruise|Jeremy Renner|Simon Pegg|Rebecca Fe...   \n",
       "26     Mark Wahlberg|Seth MacFarlane|Amanda Seyfried|...   \n",
       "27     Taron Egerton|Colin Firth|Samuel L. Jackson|Mi...   \n",
       "28     Mark Ruffalo|Michael Keaton|Rachel McAdams|Lie...   \n",
       "29     Dylan O'Brien|Kaya Scodelario|Thomas Brodie-Sa...   \n",
       "...                                                  ...   \n",
       "10836  Cary Grant|Samantha Eggar|Jim Hutton|John Stan...   \n",
       "10837  George Peppard|James Mason|Ursula Andress|Jere...   \n",
       "10838  Burt Lancaster|Lee Marvin|Robert Ryan|Woody St...   \n",
       "10839  Christopher Shea|Sally Dryer|Kathy Steinberg|A...   \n",
       "10840  Michael Caine|Paul Hubschmid|Oskar Homolka|Eva...   \n",
       "10841  Will Hutchins|Millie Perkins|Jack Nicholson|Wa...   \n",
       "10842  Sterling Holloway|Junius Matthews|Sebastian Ca...   \n",
       "10843  Charlton Heston|Laurence Olivier|Richard Johns...   \n",
       "10844  James Coburn|Lee J. Cobb|Gila Golan|Edward Mul...   \n",
       "10845  Sid James|Jim Dale|Angela Douglas|Kenneth Will...   \n",
       "10846  Christopher Lee|Barbara Shelley|Andrew Keir|Fr...   \n",
       "10847  Peter Cushing|Edward Judd|Carole Gray|Eddie By...   \n",
       "10848  Stephen Boyd|Raquel Welch|Edmond O'Brien|Donal...   \n",
       "10849  Michael Caine|Shirley MacLaine|Herbert Lom|Joh...   \n",
       "10850  Paul Newman|Lauren Bacall|Julie Harris|Arthur ...   \n",
       "10851  Virginia McKenna|Bill Travers|Geoffrey Keen|Pe...   \n",
       "10852  Henry Fonda|Joanne Woodward|Jason Robards|Paul...   \n",
       "10853  Michael Caine|Shelley Winters|Millicent Martin...   \n",
       "10854  Marlon Brando|Jane Fonda|Robert Redford|E.G. M...   \n",
       "10855  Don Knotts|Joan Staley|Liam Redmond|Dick Sarge...   \n",
       "10856  Dean Jones|Suzanne Pleshette|Charles Ruggles|K...   \n",
       "10857  Steve McQueen|Karl Malden|Brian Keith|Arthur K...   \n",
       "10858  Carl Reiner|Eva Marie Saint|Alan Arkin|Brian K...   \n",
       "10859  Rock Hudson|Salome Jens|John Randolph|Will Gee...   \n",
       "10860  Kenneth Williams|Jim Dale|Harry H. Corbett|Joa...   \n",
       "10861  Michael Hynson|Robert August|Lord 'Tally Ho' B...   \n",
       "10862  James Garner|Eva Marie Saint|Yves Montand|Tosh...   \n",
       "10863  Innokentiy Smoktunovskiy|Oleg Efremov|Georgi Z...   \n",
       "10864  Tatsuya Mihashi|Akiko Wakabayashi|Mie Hama|Joh...   \n",
       "10865  Harold P. Warren|Tom Neyman|John Reynolds|Dian...   \n",
       "\n",
       "                                                homepage  \\\n",
       "0                          http://www.jurassicworld.com/   \n",
       "1                            http://www.madmaxmovie.com/   \n",
       "2         http://www.thedivergentseries.movie/#insurgent   \n",
       "3      http://www.starwars.com/films/star-wars-episod...   \n",
       "4                               http://www.furious7.com/   \n",
       "5           http://www.foxmovies.com/movies/the-revenant   \n",
       "6                        http://www.terminatormovie.com/   \n",
       "7            http://www.foxmovies.com/movies/the-martian   \n",
       "8                           http://www.minionsmovie.com/   \n",
       "9                    http://movies.disney.com/inside-out   \n",
       "10           http://www.sonypictures.com/movies/spectre/   \n",
       "11                       http://www.jupiterascending.com   \n",
       "12                           http://exmachina-movie.com/   \n",
       "13                          http://www.pixels-movie.com/   \n",
       "14     http://marvel.com/movies/movie/193/avengers_ag...   \n",
       "15                           http://thehatefuleight.com/   \n",
       "16                           http://www.taken3movie.com/   \n",
       "17            http://marvel.com/movies/movie/180/ant-man   \n",
       "18                                                   NaN   \n",
       "19                      http://www.thehungergames.movie/   \n",
       "20                 http://movies.disney.com/tomorrowland   \n",
       "21                                                   NaN   \n",
       "22                       http://www.sanandreasmovie.com/   \n",
       "23       https://www.facebook.com/fiftyshadesofgreymovie   \n",
       "24                      http://www.thebigshortmovie.com/   \n",
       "25                      http://www.missionimpossible.com   \n",
       "26                                                   NaN   \n",
       "27                         http://www.kingsmanmovie.com/   \n",
       "28                       http://www.spotlightthefilm.com   \n",
       "29                           http://mazerunnermovies.com   \n",
       "...                                                  ...   \n",
       "10836                                                NaN   \n",
       "10837                                                NaN   \n",
       "10838                                                NaN   \n",
       "10839                                                NaN   \n",
       "10840                                                NaN   \n",
       "10841                                                NaN   \n",
       "10842                                                NaN   \n",
       "10843                                                NaN   \n",
       "10844                                                NaN   \n",
       "10845                                                NaN   \n",
       "10846                                                NaN   \n",
       "10847                                                NaN   \n",
       "10848                                                NaN   \n",
       "10849                                                NaN   \n",
       "10850                                                NaN   \n",
       "10851                                                NaN   \n",
       "10852                                                NaN   \n",
       "10853                                                NaN   \n",
       "10854                                                NaN   \n",
       "10855                                                NaN   \n",
       "10856                                                NaN   \n",
       "10857                                                NaN   \n",
       "10858                                                NaN   \n",
       "10859                                                NaN   \n",
       "10860                                                NaN   \n",
       "10861                                                NaN   \n",
       "10862                                                NaN   \n",
       "10863                                                NaN   \n",
       "10864                                                NaN   \n",
       "10865                                                NaN   \n",
       "\n",
       "                             director  \\\n",
       "0                     Colin Trevorrow   \n",
       "1                       George Miller   \n",
       "2                    Robert Schwentke   \n",
       "3                         J.J. Abrams   \n",
       "4                           James Wan   \n",
       "5      Alejandro GonzÃ¡lez IÃ±Ã¡rritu   \n",
       "6                         Alan Taylor   \n",
       "7                        Ridley Scott   \n",
       "8            Kyle Balda|Pierre Coffin   \n",
       "9                         Pete Docter   \n",
       "10                         Sam Mendes   \n",
       "11     Lana Wachowski|Lilly Wachowski   \n",
       "12                       Alex Garland   \n",
       "13                     Chris Columbus   \n",
       "14                        Joss Whedon   \n",
       "15                  Quentin Tarantino   \n",
       "16                    Olivier Megaton   \n",
       "17                        Peyton Reed   \n",
       "18                    Kenneth Branagh   \n",
       "19                   Francis Lawrence   \n",
       "20                          Brad Bird   \n",
       "21                      Antoine Fuqua   \n",
       "22                        Brad Peyton   \n",
       "23                 Sam Taylor-Johnson   \n",
       "24                         Adam McKay   \n",
       "25              Christopher McQuarrie   \n",
       "26                    Seth MacFarlane   \n",
       "27                     Matthew Vaughn   \n",
       "28                       Tom McCarthy   \n",
       "29                           Wes Ball   \n",
       "...                               ...   \n",
       "10836                 Charles Walters   \n",
       "10837                 John Guillermin   \n",
       "10838                  Richard Brooks   \n",
       "10839                   Bill Melendez   \n",
       "10840                    Guy Hamilton   \n",
       "10841                   Monte Hellman   \n",
       "10842             Wolfgang Reitherman   \n",
       "10843    Basil Dearden|Eliot Elisofon   \n",
       "10844                     Daniel Mann   \n",
       "10845                   Gerald Thomas   \n",
       "10846                  Terence Fisher   \n",
       "10847                  Terence Fisher   \n",
       "10848               Richard Fleischer   \n",
       "10849                    Ronald Neame   \n",
       "10850                     Jack Smight   \n",
       "10851                      James Hill   \n",
       "10852                    Fielder Cook   \n",
       "10853                   Lewis Gilbert   \n",
       "10854                     Arthur Penn   \n",
       "10855                     Alan Rafkin   \n",
       "10856                    Norman Tokar   \n",
       "10857                  Henry Hathaway   \n",
       "10858                  Norman Jewison   \n",
       "10859              John Frankenheimer   \n",
       "10860                   Gerald Thomas   \n",
       "10861                     Bruce Brown   \n",
       "10862              John Frankenheimer   \n",
       "10863                  Eldar Ryazanov   \n",
       "10864                     Woody Allen   \n",
       "10865                Harold P. Warren   \n",
       "\n",
       "                                                 tagline      ...       \\\n",
       "0                                      The park is open.      ...        \n",
       "1                                     What a Lovely Day.      ...        \n",
       "2                             One Choice Can Destroy You      ...        \n",
       "3                          Every generation has a story.      ...        \n",
       "4                                    Vengeance Hits Home      ...        \n",
       "5        (n. One who has returned, as if from the dead.)      ...        \n",
       "6                                       Reset the future      ...        \n",
       "7                                         Bring Him Home      ...        \n",
       "8           Before Gru, they had a history of bad bosses      ...        \n",
       "9               Meet the little voices inside your head.      ...        \n",
       "10                                 A Plan No One Escapes      ...        \n",
       "11                                 Expand your universe.      ...        \n",
       "12     There is nothing more human than the will to s...      ...        \n",
       "13                                              Game On.      ...        \n",
       "14                                   A New Age Has Come.      ...        \n",
       "15      No one comes up here without a damn good reason.      ...        \n",
       "16                                          It Ends Here      ...        \n",
       "17                           Heroes Don't Get Any Bigger      ...        \n",
       "18                       Midnight is just the beginning.      ...        \n",
       "19                           The fire will burn forever.      ...        \n",
       "20          Imagine a world where nothing is impossible.      ...        \n",
       "21                                      Believe in Hope.      ...        \n",
       "22     A rescue pilot survived an earthquake, this is...      ...        \n",
       "23                                      Are you curious?      ...        \n",
       "24                                 This is a true story.      ...        \n",
       "25                  Desperate Times. Desperate Measures.      ...        \n",
       "26                                 Ted is Coming, Again.      ...        \n",
       "27                                   Manners maketh man.      ...        \n",
       "28                   Break the story. Break the silence.      ...        \n",
       "29                      The Maze Was Just the Beginning.      ...        \n",
       "...                                                  ...      ...        \n",
       "10836            Run, don't walk to see Walk, Don't Run.      ...        \n",
       "10837           There was no quiet on the Western Front!      ...        \n",
       "10838                            Rough, tough and ready.      ...        \n",
       "10839      Every year he rises from the pumpkin patch...      ...        \n",
       "10840                                                NaN      ...        \n",
       "10841  Suspenseful desert pursuit in the \"High Noon\" ...      ...        \n",
       "10842                                                NaN      ...        \n",
       "10843  Where the Nile divides, the great Cinerama adv...      ...        \n",
       "10844                       The ORIGINAL man of mystery!      ...        \n",
       "10845                             How the west was lost!      ...        \n",
       "10846  DEAD for Ten Years DRACULA, Prince of Darkness...      ...        \n",
       "10847  How could they stop the devouring death...that...      ...        \n",
       "10848  A Fantastic and Spectacular Voyage... Through ...      ...        \n",
       "10849             Shirley MacLaine raises Michael Caine!      ...        \n",
       "10850    Harper takes a case - and the payoff is murder.      ...        \n",
       "10851  From The Pages Of The Beloved Best Seller... A...      ...        \n",
       "10852  All the action you can take...all the adventur...      ...        \n",
       "10853                 Is any man an Alfie? Ask any girl!      ...        \n",
       "10854                                   The chase is on!      ...        \n",
       "10855  G-G-GUARANTEED! YOU'LL BE SCARED UNTIL YOU LAU...      ...        \n",
       "10856  A HAPPY HONEYMOON GOES TO THE DOGS!...When a G...      ...        \n",
       "10857  Some called him savage- and some called him sa...      ...        \n",
       "10858   IT'S A PLOT! ...to make the world die laughing!!      ...        \n",
       "10859                                                NaN      ...        \n",
       "10860  Carry On Screaming with the Hilarious CARRY ON...      ...        \n",
       "10861                                                NaN      ...        \n",
       "10862  Cinerama sweeps YOU into a drama of speed and ...      ...        \n",
       "10863                                                NaN      ...        \n",
       "10864                          WOODY ALLEN STRIKES BACK!      ...        \n",
       "10865       It's Shocking! It's Beyond Your Imagination!      ...        \n",
       "\n",
       "                                                overview runtime  \\\n",
       "0      Twenty-two years after the events of Jurassic ...     124   \n",
       "1      An apocalyptic story set in the furthest reach...     120   \n",
       "2      Beatrice Prior must confront her inner demons ...     119   \n",
       "3      Thirty years after defeating the Galactic Empi...     136   \n",
       "4      Deckard Shaw seeks revenge against Dominic Tor...     137   \n",
       "5      In the 1820s, a frontiersman, Hugh Glass, sets...     156   \n",
       "6      The year is 2029. John Connor, leader of the r...     125   \n",
       "7      During a manned mission to Mars, Astronaut Mar...     141   \n",
       "8      Minions Stuart, Kevin and Bob are recruited by...      91   \n",
       "9      Growing up can be a bumpy road, and it's no ex...      94   \n",
       "10     A cryptic message from Bondâ€™s past sends him...     148   \n",
       "11     In a universe where human genetic material is ...     124   \n",
       "12     Caleb, a 26 year old coder at the world's larg...     108   \n",
       "13     Video game experts are recruited by the milita...     105   \n",
       "14     When Tony Stark tries to jumpstart a dormant p...     141   \n",
       "15     Bounty hunters seek shelter from a raging bliz...     167   \n",
       "16     Ex-government operative Bryan Mills finds his ...     109   \n",
       "17     Armed with the astonishing ability to shrink i...     115   \n",
       "18     When her father unexpectedly passes away, youn...     112   \n",
       "19     With the nation of Panem in a full scale war, ...     136   \n",
       "20     Bound by a shared destiny, a bright, optimisti...     130   \n",
       "21     Billy \"The Great\" Hope, the reigning junior mi...     123   \n",
       "22     In the aftermath of a massive earthquake in Ca...     114   \n",
       "23     When college senior Anastasia Steele steps in ...     125   \n",
       "24     The men who made millions from a global econom...     130   \n",
       "25     Ethan and team take on their most impossible m...     131   \n",
       "26     Newlywed couple Ted and Tami-Lynn want to have...     115   \n",
       "27     The story of a super-secret spy organization t...     130   \n",
       "28     The true story of how The Boston Globe uncover...     128   \n",
       "29     Thomas and his fellow Gladers face their great...     132   \n",
       "...                                                  ...     ...   \n",
       "10836  British industrialist Sir William Rutland - \"B...     114   \n",
       "10837  A young pilot in the German air force of 1918,...     156   \n",
       "10838  The Professionals is a 1966 American Western f...     117   \n",
       "10839  This classic \"Peanuts\" tale focuses on the thu...      25   \n",
       "10840  Colonel Stok, a Soviet intelligence officer re...     102   \n",
       "10841  A hired gun seeks to enact revenge on a group ...      82   \n",
       "10842  Christopher Robin's bear attempts to raid a be...      25   \n",
       "10843  English General Charles George Gordon, a devou...     134   \n",
       "10844  When scientists use eco-terrorism to impose th...     108   \n",
       "10845  Stodge City is in the grip of the Rumpo Kid an...      93   \n",
       "10846  Whilst vacationing in the Carpathian Mountain,...      90   \n",
       "10847  A small island community is overrun with creep...      89   \n",
       "10848  The science of miniaturization has been unlock...     100   \n",
       "10849  Harry Dean (Michael Caine) has a perfect plan ...     109   \n",
       "10850  Harper is a cynical private eye in the best tr...     121   \n",
       "10851  Born Free (1966) is an Open Road Films Ltd./Co...      95   \n",
       "10852  A naive traveler in Laredo gets involved in a ...      95   \n",
       "10853  The film tells the story of a young man who le...     114   \n",
       "10854  Most everyone in town thinks that Sheriff Cald...     135   \n",
       "10855  Luther Heggs aspires to being a reporter for h...      90   \n",
       "10856  The Garrisons (Dean Jones and Suzanne Pleshett...      93   \n",
       "10857  Nevada Smith is the young son of an Indian mot...     128   \n",
       "10858  Without hostile intent, a Soviet sub runs agro...     126   \n",
       "10859  A secret organisation offers wealthy people a ...     100   \n",
       "10860  The sinister Dr Watt has an evil scheme going....      87   \n",
       "10861  The Endless Summer, by Bruce Brown, is one of ...      95   \n",
       "10862  Grand Prix driver Pete Aron is fired by his te...     176   \n",
       "10863  An insurance agent who moonlights as a carthie...      94   \n",
       "10864  In comic Woody Allen's film debut, he took the...      80   \n",
       "10865  A family gets lost on the road and stumbles up...      74   \n",
       "\n",
       "                                                genres  \\\n",
       "0            Action|Adventure|Science Fiction|Thriller   \n",
       "1            Action|Adventure|Science Fiction|Thriller   \n",
       "2                   Adventure|Science Fiction|Thriller   \n",
       "3             Action|Adventure|Science Fiction|Fantasy   \n",
       "4                                Action|Crime|Thriller   \n",
       "5                     Western|Drama|Adventure|Thriller   \n",
       "6            Science Fiction|Action|Thriller|Adventure   \n",
       "7                      Drama|Adventure|Science Fiction   \n",
       "8                    Family|Animation|Adventure|Comedy   \n",
       "9                              Comedy|Animation|Family   \n",
       "10                              Action|Adventure|Crime   \n",
       "11            Science Fiction|Fantasy|Action|Adventure   \n",
       "12                               Drama|Science Fiction   \n",
       "13                       Action|Comedy|Science Fiction   \n",
       "14                    Action|Adventure|Science Fiction   \n",
       "15                         Crime|Drama|Mystery|Western   \n",
       "16                               Crime|Action|Thriller   \n",
       "17                    Science Fiction|Action|Adventure   \n",
       "18                        Romance|Fantasy|Family|Drama   \n",
       "19                       War|Adventure|Science Fiction   \n",
       "20     Action|Family|Science Fiction|Adventure|Mystery   \n",
       "21                                        Action|Drama   \n",
       "22                               Action|Drama|Thriller   \n",
       "23                                       Drama|Romance   \n",
       "24                                        Comedy|Drama   \n",
       "25                                              Action   \n",
       "26                                              Comedy   \n",
       "27                       Crime|Comedy|Action|Adventure   \n",
       "28                              Drama|Thriller|History   \n",
       "29                     Action|Science Fiction|Thriller   \n",
       "...                                                ...   \n",
       "10836                                   Comedy|Romance   \n",
       "10837                       War|Action|Adventure|Drama   \n",
       "10838                         Action|Adventure|Western   \n",
       "10839                                 Family|Animation   \n",
       "10840                                         Thriller   \n",
       "10841                                          Western   \n",
       "10842                                 Animation|Family   \n",
       "10843               Adventure|Drama|War|History|Action   \n",
       "10844         Adventure|Comedy|Fantasy|Science Fiction   \n",
       "10845                                   Comedy|Western   \n",
       "10846                                           Horror   \n",
       "10847                           Science Fiction|Horror   \n",
       "10848                        Adventure|Science Fiction   \n",
       "10849                              Action|Comedy|Crime   \n",
       "10850              Action|Drama|Thriller|Crime|Mystery   \n",
       "10851            Adventure|Drama|Action|Family|Foreign   \n",
       "10852                                          Western   \n",
       "10853                             Comedy|Drama|Romance   \n",
       "10854                             Thriller|Drama|Crime   \n",
       "10855                    Comedy|Family|Mystery|Romance   \n",
       "10856                              Comedy|Drama|Family   \n",
       "10857                                   Action|Western   \n",
       "10858                                       Comedy|War   \n",
       "10859           Mystery|Science Fiction|Thriller|Drama   \n",
       "10860                                           Comedy   \n",
       "10861                                      Documentary   \n",
       "10862                           Action|Adventure|Drama   \n",
       "10863                                   Mystery|Comedy   \n",
       "10864                                    Action|Comedy   \n",
       "10865                                           Horror   \n",
       "\n",
       "                                    production_companies release_date  \\\n",
       "0      Universal Studios|Amblin Entertainment|Legenda...       6/9/15   \n",
       "1      Village Roadshow Pictures|Kennedy Miller Produ...      5/13/15   \n",
       "2      Summit Entertainment|Mandeville Films|Red Wago...      3/18/15   \n",
       "3              Lucasfilm|Truenorth Productions|Bad Robot     12/15/15   \n",
       "4      Universal Pictures|Original Film|Media Rights ...       4/1/15   \n",
       "5      Regency Enterprises|Appian Way|CatchPlay|Anony...     12/25/15   \n",
       "6                Paramount Pictures|Skydance Productions      6/23/15   \n",
       "7      Twentieth Century Fox Film Corporation|Scott F...      9/30/15   \n",
       "8          Universal Pictures|Illumination Entertainment      6/17/15   \n",
       "9      Walt Disney Pictures|Pixar Animation Studios|W...       6/9/15   \n",
       "10                          Columbia Pictures|Danjaq|B24     10/26/15   \n",
       "11     Village Roadshow Pictures|Dune Entertainment|A...       2/4/15   \n",
       "12     DNA Films|Universal Pictures International (UP...      1/21/15   \n",
       "13           Columbia Pictures|Happy Madison Productions      7/16/15   \n",
       "14     Marvel Studios|Prime Focus|Revolution Sun Studios      4/22/15   \n",
       "15     Double Feature Films|The Weinstein Company|Fil...     12/25/15   \n",
       "16     Twentieth Century Fox Film Corporation|M6 Film...       1/1/15   \n",
       "17                                        Marvel Studios      7/14/15   \n",
       "18     Walt Disney Pictures|Genre Films|Beagle Pug Fi...      3/12/15   \n",
       "19     Studio Babelsberg|StudioCanal|Lionsgate|Walt D...     11/18/15   \n",
       "20                     Walt Disney Pictures|Babieka|A113      5/19/15   \n",
       "21               Escape Artists|Riche-Ludwig Productions      6/15/15   \n",
       "22     New Line Cinema|Village Roadshow Pictures|Warn...      5/27/15   \n",
       "23     Focus Features|Trigger Street Productions|Mich...      2/11/15   \n",
       "24     Paramount Pictures|Plan B Entertainment|Regenc...     12/11/15   \n",
       "25     Paramount Pictures|Skydance Productions|China ...      7/23/15   \n",
       "26     Universal Pictures|Media Rights Capital|Fuzzy ...      6/25/15   \n",
       "27     Twentieth Century Fox Film Corporation|Marv Fi...      1/24/15   \n",
       "28     Participant Media|Open Road Films|Anonymous Co...      11/6/15   \n",
       "29     Gotham Group|Temple Hill Entertainment|TSG Ent...       9/9/15   \n",
       "...                                                  ...          ...   \n",
       "10836                      Columbia Pictures Corporation       1/1/66   \n",
       "10837             Twentieth Century Fox Film Corporation      6/21/66   \n",
       "10838                                  Columbia Pictures      11/1/66   \n",
       "10839                            Warner Bros. Home Video     10/27/66   \n",
       "10840                        Lowndes Productions Limited     12/22/66   \n",
       "10841                                      Proteus Films     10/23/66   \n",
       "10842                                                NaN       1/1/66   \n",
       "10843                  Julian Blaustein Productions Ltd.       6/9/66   \n",
       "10844                                   20th Century Fox      1/16/66   \n",
       "10845                           Peter Rogers Productions       3/1/66   \n",
       "10846     Seven Arts Productions|Hammer Film Productions       1/9/66   \n",
       "10847                   Planet Film Productions|Protelco      6/20/66   \n",
       "10848             Twentieth Century Fox Film Corporation      8/24/66   \n",
       "10849                                 Universal Pictures     12/16/66   \n",
       "10850                                       Warner Bros.      2/23/66   \n",
       "10851                                          High Road      6/22/66   \n",
       "10852                              Eden Productions Inc.      5/31/66   \n",
       "10853                                                NaN      3/29/66   \n",
       "10854     Horizon Pictures|Columbia Pictures Corporation      2/17/66   \n",
       "10855                                 Universal Pictures      1/20/66   \n",
       "10856                               Walt Disney Pictures      2/16/66   \n",
       "10857  Paramount Pictures|Solar Productions|Embassy P...      6/10/66   \n",
       "10858                            The Mirisch Corporation      5/25/66   \n",
       "10859  Gibraltar Productions|Joel Productions|John Fr...      10/5/66   \n",
       "10860  Peter Rogers Productions|Anglo-Amalgamated Fil...      5/20/66   \n",
       "10861                                  Bruce Brown Films      6/15/66   \n",
       "10862  Cherokee Productions|Joel Productions|Douglas ...     12/21/66   \n",
       "10863                                            Mosfilm       1/1/66   \n",
       "10864                            Benedict Pictures Corp.      11/2/66   \n",
       "10865                                          Norm-Iris     11/15/66   \n",
       "\n",
       "      vote_count  vote_average  release_year    budget_adj   revenue_adj  \n",
       "0           5562           6.5          2015  1.379999e+08  1.392446e+09  \n",
       "1           6185           7.1          2015  1.379999e+08  3.481613e+08  \n",
       "2           2480           6.3          2015  1.012000e+08  2.716190e+08  \n",
       "3           5292           7.5          2015  1.839999e+08  1.902723e+09  \n",
       "4           2947           7.3          2015  1.747999e+08  1.385749e+09  \n",
       "5           3929           7.2          2015  1.241999e+08  4.903142e+08  \n",
       "6           2598           5.8          2015  1.425999e+08  4.053551e+08  \n",
       "7           4572           7.6          2015  9.935996e+07  5.477497e+08  \n",
       "8           2893           6.5          2015  6.807997e+07  1.064192e+09  \n",
       "9           3935           8.0          2015  1.609999e+08  7.854116e+08  \n",
       "10          3254           6.2          2015  2.253999e+08  8.102203e+08  \n",
       "11          1937           5.2          2015  1.619199e+08  1.692686e+08  \n",
       "12          2854           7.6          2015  1.379999e+07  3.391985e+07  \n",
       "13          1575           5.8          2015  8.095996e+07  2.241460e+08  \n",
       "14          4304           7.4          2015  2.575999e+08  1.292632e+09  \n",
       "15          2389           7.4          2015  4.047998e+07  1.432992e+08  \n",
       "16          1578           6.1          2015  4.415998e+07  2.997096e+08  \n",
       "17          3779           7.0          2015  1.195999e+08  4.771138e+08  \n",
       "18          1495           6.8          2015  8.739996e+07  4.989630e+08  \n",
       "19          2380           6.5          2015  1.471999e+08  5.984813e+08  \n",
       "20          1899           6.2          2015  1.747999e+08  1.923127e+08  \n",
       "21          1386           7.3          2015  2.759999e+07  8.437300e+07  \n",
       "22          2060           6.1          2015  1.012000e+08  4.328514e+08  \n",
       "23          1865           5.3          2015  3.679998e+07  5.240791e+08  \n",
       "24          1545           7.3          2015  2.575999e+07  1.226787e+08  \n",
       "25          2349           7.1          2015  1.379999e+08  6.277435e+08  \n",
       "26          1666           6.3          2015  6.255997e+07  1.985944e+08  \n",
       "27          3833           7.6          2015  7.451997e+07  3.714978e+08  \n",
       "28          1559           7.8          2015  1.839999e+07  8.127872e+07  \n",
       "29          1849           6.4          2015  5.611998e+07  2.863562e+08  \n",
       "...          ...           ...           ...           ...           ...  \n",
       "10836         11           5.8          1966  0.000000e+00  0.000000e+00  \n",
       "10837         12           5.5          1966  0.000000e+00  0.000000e+00  \n",
       "10838         21           6.0          1966  0.000000e+00  0.000000e+00  \n",
       "10839         49           7.2          1966  0.000000e+00  0.000000e+00  \n",
       "10840         13           5.7          1966  0.000000e+00  0.000000e+00  \n",
       "10841         12           5.5          1966  5.038511e+05  0.000000e+00  \n",
       "10842         12           7.9          1966  0.000000e+00  0.000000e+00  \n",
       "10843         12           5.8          1966  0.000000e+00  0.000000e+00  \n",
       "10844         13           5.6          1966  0.000000e+00  0.000000e+00  \n",
       "10845         15           5.9          1966  0.000000e+00  0.000000e+00  \n",
       "10846         16           5.7          1966  0.000000e+00  0.000000e+00  \n",
       "10847         13           5.3          1966  0.000000e+00  0.000000e+00  \n",
       "10848         42           6.7          1966  3.436265e+07  8.061618e+07  \n",
       "10849         14           6.1          1966  0.000000e+00  0.000000e+00  \n",
       "10850         14           6.0          1966  0.000000e+00  0.000000e+00  \n",
       "10851         15           6.6          1966  0.000000e+00  0.000000e+00  \n",
       "10852         11           6.0          1966  0.000000e+00  0.000000e+00  \n",
       "10853         26           6.2          1966  0.000000e+00  0.000000e+00  \n",
       "10854         17           6.0          1966  0.000000e+00  0.000000e+00  \n",
       "10855         14           6.1          1966  4.702610e+06  0.000000e+00  \n",
       "10856         14           5.7          1966  0.000000e+00  0.000000e+00  \n",
       "10857         10           5.9          1966  0.000000e+00  0.000000e+00  \n",
       "10858         11           5.5          1966  0.000000e+00  0.000000e+00  \n",
       "10859         22           6.6          1966  0.000000e+00  0.000000e+00  \n",
       "10860         13           7.0          1966  0.000000e+00  0.000000e+00  \n",
       "10861         11           7.4          1966  0.000000e+00  0.000000e+00  \n",
       "10862         20           5.7          1966  0.000000e+00  0.000000e+00  \n",
       "10863         11           6.5          1966  0.000000e+00  0.000000e+00  \n",
       "10864         22           5.4          1966  0.000000e+00  0.000000e+00  \n",
       "10865         15           1.5          1966  1.276423e+05  0.000000e+00  \n",
       "\n",
       "[10866 rows x 21 columns]>"
      ]
     },
     "execution_count": 153,
     "metadata": {},
     "output_type": "execute_result"
    }
   ],
   "source": [
    "#tried describing the data, but couldn't make much sense of it\n",
    "\n",
    "tmdb_df.describe"
   ]
  },
  {
   "cell_type": "code",
   "execution_count": 154,
   "metadata": {},
   "outputs": [
    {
     "data": {
      "text/plain": [
       "(10866, 21)"
      ]
     },
     "execution_count": 154,
     "metadata": {},
     "output_type": "execute_result"
    }
   ],
   "source": [
    "#all movies\n",
    "\n",
    "  "
   ]
  },
  {
   "cell_type": "code",
   "execution_count": 155,
   "metadata": {},
   "outputs": [
    {
     "name": "stdout",
     "output_type": "stream",
     "text": [
      "(4709, 21)\n",
      "(10365, 21)\n"
     ]
    }
   ],
   "source": [
    "# popular movies\n",
    "print(tmdb_df.query('vote_count>50').shape)\n",
    "print(tmdb_df.query('vote_count>10').shape)"
   ]
  },
  {
   "cell_type": "markdown",
   "metadata": {},
   "source": [
    "We can work with movies with > 10 votes since they are atleast marginally poopular. \n",
    "We'll have 10,365 such movies"
   ]
  },
  {
   "cell_type": "code",
   "execution_count": 156,
   "metadata": {},
   "outputs": [
    {
     "data": {
      "text/plain": [
       "(1992, 21)"
      ]
     },
     "execution_count": 156,
     "metadata": {},
     "output_type": "execute_result"
    }
   ],
   "source": [
    "#which rows have all columns of data. \n",
    "tmdb_df.dropna().shape\n",
    "#Way too less. I don't intent to drop them all. For example: NaN homepage or tagline does not bother me.\n"
   ]
  },
  {
   "cell_type": "markdown",
   "metadata": {},
   "source": [
    "__Understand duration:__ Its centrality and distribution attributes"
   ]
  },
  {
   "cell_type": "code",
   "execution_count": 157,
   "metadata": {
    "scrolled": true
   },
   "outputs": [
    {
     "data": {
      "text/plain": [
       "count    10866.000000\n",
       "mean       102.070863\n",
       "std         31.381405\n",
       "min          0.000000\n",
       "25%         90.000000\n",
       "50%         99.000000\n",
       "75%        111.000000\n",
       "max        900.000000\n",
       "Name: runtime, dtype: float64"
      ]
     },
     "execution_count": 157,
     "metadata": {},
     "output_type": "execute_result"
    },
    {
     "data": {
      "image/png": "[encoded data removed]",
      "text/plain": [
       "<matplotlib.figure.Figure at 0x1a2cc8bda0>"
      ]
     },
     "metadata": {},
     "output_type": "display_data"
    }
   ],
   "source": [
    "\n",
    "plt.xlabel('duration (min)')\n",
    "plt.hist(tmdb_df['runtime'], range=(20,300), bins=100)\n",
    "\n",
    "# mean time under 2 hours with very standard deviation of 31 mins\n",
    "tmdb_df['runtime'].describe()"
   ]
  },
  {
   "cell_type": "markdown",
   "metadata": {},
   "source": [
    "### Conclusion: \n",
    "    It's a positively skewed normal distribution"
   ]
  },
  {
   "cell_type": "markdown",
   "metadata": {},
   "source": [
    "> **Tip**: You should _not_ perform too many operations in each cell. Create cells freely to explore your data. One option that you can take with this project is to do a lot of explorations in an initial notebook. These don't have to be organized, but make sure you use enough comments to understand the purpose of each code cell. Then, after you're done with your analysis, create a duplicate notebook where you will trim the excess and organize your steps so that you have a flowing, cohesive report.\n",
    "\n",
    "> **Tip**: Make sure that you keep your reader informed on the steps that you are taking in your investigation. Follow every code cell, or every set of related code cells, with a markdown cell to describe to the reader what was found in the preceding cell(s). Try to make it so that the reader can then understand what they will be seeing in the following cell(s).\n",
    "\n",
    "### Data Cleaning : Take preventive steps to filter problematic rows\n"
   ]
  },
  {
   "cell_type": "code",
   "execution_count": 158,
   "metadata": {},
   "outputs": [],
   "source": [
    "# After discussing the structure of the data and any problems that need to be\n",
    "#   cleaned, perform those cleaning steps in the second part of this section.\n",
    "\n",
    "#Since I work with these numerical columns, I'll ensure no NaN\n",
    "tmdb_df.dropna(subset=['budget_adj', 'revenue_adj', 'release_year', 'runtime'], inplace=True)\n",
    "\n",
    "#Ensure that no movies are duplicate:\n",
    "tmdb_df.drop_duplicates('id', keep = 'first', inplace=True)\n",
    "\n",
    "#I dont want to work on empty movies, so will remove 0 length movies\n",
    "tmdb_df.query('runtime > 0', inplace=True)\n",
    "\n"
   ]
  },
  {
   "cell_type": "markdown",
   "metadata": {},
   "source": [
    "Cleanup movies with less than 10 votes (Not really data issue, but removing movies with small user footprint)"
   ]
  },
  {
   "cell_type": "code",
   "execution_count": 159,
   "metadata": {},
   "outputs": [],
   "source": [
    "tmdb_df.query('vote_count>10', inplace=True)"
   ]
  },
  {
   "cell_type": "code",
   "execution_count": 160,
   "metadata": {},
   "outputs": [],
   "source": [
    "# Remove movies with zero revenue or budget. A movie without revenue or budget doesn't look like released movie\n",
    "\n",
    "tmdb_df.query('budget_adj > 0 and revenue_adj > 0', inplace=True)"
   ]
  },
  {
   "cell_type": "markdown",
   "metadata": {},
   "source": [
    "Enrich dataframe with aggregate voting. It is needed for groupby claus on other columns"
   ]
  },
  {
   "cell_type": "code",
   "execution_count": 161,
   "metadata": {},
   "outputs": [],
   "source": [
    "tmdb_df['vote_val'] = tmdb_df['vote_count'] * tmdb_df['vote_average']"
   ]
  },
  {
   "cell_type": "code",
   "execution_count": 162,
   "metadata": {},
   "outputs": [
    {
     "name": "stdout",
     "output_type": "stream",
     "text": [
      "shape  (3822, 22)\n"
     ]
    },
    {
     "data": {
      "text/html": [
       "<div>\n",
       "<style scoped>\n",
       "    .dataframe tbody tr th:only-of-type {\n",
       "        vertical-align: middle;\n",
       "    }\n",
       "\n",
       "    .dataframe tbody tr th {\n",
       "        vertical-align: top;\n",
       "    }\n",
       "\n",
       "    .dataframe thead th {\n",
       "        text-align: right;\n",
       "    }\n",
       "</style>\n",
       "<table border=\"1\" class=\"dataframe\">\n",
       "  <thead>\n",
       "    <tr style=\"text-align: right;\">\n",
       "      <th></th>\n",
       "      <th>id</th>\n",
       "      <th>imdb_id</th>\n",
       "      <th>popularity</th>\n",
       "      <th>budget</th>\n",
       "      <th>revenue</th>\n",
       "      <th>original_title</th>\n",
       "      <th>cast</th>\n",
       "      <th>homepage</th>\n",
       "      <th>director</th>\n",
       "      <th>tagline</th>\n",
       "      <th>...</th>\n",
       "      <th>runtime</th>\n",
       "      <th>genres</th>\n",
       "      <th>production_companies</th>\n",
       "      <th>release_date</th>\n",
       "      <th>vote_count</th>\n",
       "      <th>vote_average</th>\n",
       "      <th>release_year</th>\n",
       "      <th>budget_adj</th>\n",
       "      <th>revenue_adj</th>\n",
       "      <th>vote_val</th>\n",
       "    </tr>\n",
       "  </thead>\n",
       "  <tbody>\n",
       "    <tr>\n",
       "      <th>0</th>\n",
       "      <td>135397</td>\n",
       "      <td>tt0369610</td>\n",
       "      <td>32.985763</td>\n",
       "      <td>150000000</td>\n",
       "      <td>1513528810</td>\n",
       "      <td>Jurassic World</td>\n",
       "      <td>Chris Pratt|Bryce Dallas Howard|Irrfan Khan|Vi...</td>\n",
       "      <td>http://www.jurassicworld.com/</td>\n",
       "      <td>Colin Trevorrow</td>\n",
       "      <td>The park is open.</td>\n",
       "      <td>...</td>\n",
       "      <td>124</td>\n",
       "      <td>Action|Adventure|Science Fiction|Thriller</td>\n",
       "      <td>Universal Studios|Amblin Entertainment|Legenda...</td>\n",
       "      <td>6/9/15</td>\n",
       "      <td>5562</td>\n",
       "      <td>6.5</td>\n",
       "      <td>2015</td>\n",
       "      <td>1.379999e+08</td>\n",
       "      <td>1.392446e+09</td>\n",
       "      <td>36153.0</td>\n",
       "    </tr>\n",
       "    <tr>\n",
       "      <th>1</th>\n",
       "      <td>76341</td>\n",
       "      <td>tt1392190</td>\n",
       "      <td>28.419936</td>\n",
       "      <td>150000000</td>\n",
       "      <td>378436354</td>\n",
       "      <td>Mad Max: Fury Road</td>\n",
       "      <td>Tom Hardy|Charlize Theron|Hugh Keays-Byrne|Nic...</td>\n",
       "      <td>http://www.madmaxmovie.com/</td>\n",
       "      <td>George Miller</td>\n",
       "      <td>What a Lovely Day.</td>\n",
       "      <td>...</td>\n",
       "      <td>120</td>\n",
       "      <td>Action|Adventure|Science Fiction|Thriller</td>\n",
       "      <td>Village Roadshow Pictures|Kennedy Miller Produ...</td>\n",
       "      <td>5/13/15</td>\n",
       "      <td>6185</td>\n",
       "      <td>7.1</td>\n",
       "      <td>2015</td>\n",
       "      <td>1.379999e+08</td>\n",
       "      <td>3.481613e+08</td>\n",
       "      <td>43913.5</td>\n",
       "    </tr>\n",
       "  </tbody>\n",
       "</table>\n",
       "<p>2 rows × 22 columns</p>\n",
       "</div>"
      ],
      "text/plain": [
       "       id    imdb_id  popularity     budget     revenue      original_title  \\\n",
       "0  135397  tt0369610   32.985763  150000000  1513528810      Jurassic World   \n",
       "1   76341  tt1392190   28.419936  150000000   378436354  Mad Max: Fury Road   \n",
       "\n",
       "                                                cast  \\\n",
       "0  Chris Pratt|Bryce Dallas Howard|Irrfan Khan|Vi...   \n",
       "1  Tom Hardy|Charlize Theron|Hugh Keays-Byrne|Nic...   \n",
       "\n",
       "                        homepage         director             tagline  \\\n",
       "0  http://www.jurassicworld.com/  Colin Trevorrow   The park is open.   \n",
       "1    http://www.madmaxmovie.com/    George Miller  What a Lovely Day.   \n",
       "\n",
       "     ...    runtime                                     genres  \\\n",
       "0    ...        124  Action|Adventure|Science Fiction|Thriller   \n",
       "1    ...        120  Action|Adventure|Science Fiction|Thriller   \n",
       "\n",
       "                                production_companies release_date vote_count  \\\n",
       "0  Universal Studios|Amblin Entertainment|Legenda...       6/9/15       5562   \n",
       "1  Village Roadshow Pictures|Kennedy Miller Produ...      5/13/15       6185   \n",
       "\n",
       "  vote_average  release_year    budget_adj   revenue_adj  vote_val  \n",
       "0          6.5          2015  1.379999e+08  1.392446e+09   36153.0  \n",
       "1          7.1          2015  1.379999e+08  3.481613e+08   43913.5  \n",
       "\n",
       "[2 rows x 22 columns]"
      ]
     },
     "execution_count": 162,
     "metadata": {},
     "output_type": "execute_result"
    }
   ],
   "source": [
    "#Check shape after these cleanups\n",
    "print(\"shape \", tmdb_df.shape)\n",
    "\n",
    "tmdb_df.head(2)"
   ]
  },
  {
   "cell_type": "markdown",
   "metadata": {},
   "source": [
    "### Distribution of Voting average across all movies"
   ]
  },
  {
   "cell_type": "code",
   "execution_count": 163,
   "metadata": {},
   "outputs": [
    {
     "data": {
      "text/plain": [
       "<matplotlib.axes._subplots.AxesSubplot at 0x1a2a4cdbe0>"
      ]
     },
     "execution_count": 163,
     "metadata": {},
     "output_type": "execute_result"
    },
    {
     "data": {
      "image/png": "[encoded data removed]",
      "text/plain": [
       "<matplotlib.figure.Figure at 0x1a2a4ed6a0>"
      ]
     },
     "metadata": {},
     "output_type": "display_data"
    }
   ],
   "source": [
    "tmdb_df['vote_average'].hist(bins=50)"
   ]
  },
  {
   "cell_type": "code",
   "execution_count": 164,
   "metadata": {},
   "outputs": [
    {
     "data": {
      "text/plain": [
       "count    3822.000000\n",
       "mean        6.172109\n",
       "std         0.792369\n",
       "min         2.200000\n",
       "25%         5.700000\n",
       "50%         6.200000\n",
       "75%         6.700000\n",
       "max         8.400000\n",
       "Name: vote_average, dtype: float64"
      ]
     },
     "execution_count": 164,
     "metadata": {},
     "output_type": "execute_result"
    }
   ],
   "source": [
    "tmdb_df['vote_average'].describe()"
   ]
  },
  {
   "cell_type": "markdown",
   "metadata": {},
   "source": [
    "### Conclusion\n",
    "Voting behavior, as expected, is _normally distributed_"
   ]
  },
  {
   "cell_type": "markdown",
   "metadata": {},
   "source": [
    "<a id='eda'></a>\n",
    "## Exploratory Data Analysis\n",
    "\n",
    "> **Tip**: Now that you've trimmed and cleaned your data, you're ready to move on to exploration. Compute statistics and create visualizations with the goal of addressing the research questions that you posed in the Introduction section. It is recommended that you be systematic with your approach. Look at one variable at a time, and then follow it up by looking at relationships between variables.\n",
    "\n",
    "### Research Question 1: Trend between duration and rating"
   ]
  },
  {
   "cell_type": "code",
   "execution_count": 165,
   "metadata": {},
   "outputs": [
    {
     "name": "stdout",
     "output_type": "stream",
     "text": [
      "(138, 11)\n"
     ]
    },
    {
     "data": {
      "text/html": [
       "<div>\n",
       "<style scoped>\n",
       "    .dataframe tbody tr th:only-of-type {\n",
       "        vertical-align: middle;\n",
       "    }\n",
       "\n",
       "    .dataframe tbody tr th {\n",
       "        vertical-align: top;\n",
       "    }\n",
       "\n",
       "    .dataframe thead th {\n",
       "        text-align: right;\n",
       "    }\n",
       "</style>\n",
       "<table border=\"1\" class=\"dataframe\">\n",
       "  <thead>\n",
       "    <tr style=\"text-align: right;\">\n",
       "      <th></th>\n",
       "      <th>runtime</th>\n",
       "      <th>id</th>\n",
       "      <th>popularity</th>\n",
       "      <th>budget</th>\n",
       "      <th>revenue</th>\n",
       "      <th>vote_count</th>\n",
       "      <th>vote_average</th>\n",
       "      <th>release_year</th>\n",
       "      <th>budget_adj</th>\n",
       "      <th>revenue_adj</th>\n",
       "      <th>vote_val</th>\n",
       "    </tr>\n",
       "  </thead>\n",
       "  <tbody>\n",
       "    <tr>\n",
       "      <th>0</th>\n",
       "      <td>15</td>\n",
       "      <td>24914</td>\n",
       "      <td>0.208637</td>\n",
       "      <td>10</td>\n",
       "      <td>5</td>\n",
       "      <td>16</td>\n",
       "      <td>6.8</td>\n",
       "      <td>2003</td>\n",
       "      <td>1.185353e+01</td>\n",
       "      <td>5.926763e+00</td>\n",
       "      <td>108.8</td>\n",
       "    </tr>\n",
       "    <tr>\n",
       "      <th>1</th>\n",
       "      <td>26</td>\n",
       "      <td>14813</td>\n",
       "      <td>0.592219</td>\n",
       "      <td>3000000</td>\n",
       "      <td>21000000</td>\n",
       "      <td>89</td>\n",
       "      <td>7.4</td>\n",
       "      <td>1983</td>\n",
       "      <td>6.567936e+06</td>\n",
       "      <td>4.597555e+07</td>\n",
       "      <td>658.6</td>\n",
       "    </tr>\n",
       "    <tr>\n",
       "      <th>2</th>\n",
       "      <td>42</td>\n",
       "      <td>14301</td>\n",
       "      <td>0.352054</td>\n",
       "      <td>200000</td>\n",
       "      <td>3</td>\n",
       "      <td>140</td>\n",
       "      <td>7.7</td>\n",
       "      <td>2008</td>\n",
       "      <td>2.025573e+05</td>\n",
       "      <td>3.038360e+00</td>\n",
       "      <td>1078.0</td>\n",
       "    </tr>\n",
       "    <tr>\n",
       "      <th>3</th>\n",
       "      <td>62</td>\n",
       "      <td>80379</td>\n",
       "      <td>0.331313</td>\n",
       "      <td>250000</td>\n",
       "      <td>1000000</td>\n",
       "      <td>47</td>\n",
       "      <td>7.9</td>\n",
       "      <td>2011</td>\n",
       "      <td>2.423495e+05</td>\n",
       "      <td>9.693980e+05</td>\n",
       "      <td>371.3</td>\n",
       "    </tr>\n",
       "    <tr>\n",
       "      <th>4</th>\n",
       "      <td>63</td>\n",
       "      <td>51162</td>\n",
       "      <td>1.425344</td>\n",
       "      <td>30000000</td>\n",
       "      <td>14460000</td>\n",
       "      <td>174</td>\n",
       "      <td>6.8</td>\n",
       "      <td>2011</td>\n",
       "      <td>2.908194e+07</td>\n",
       "      <td>1.401750e+07</td>\n",
       "      <td>1183.2</td>\n",
       "    </tr>\n",
       "    <tr>\n",
       "      <th>5</th>\n",
       "      <td>66</td>\n",
       "      <td>27</td>\n",
       "      <td>1.117300</td>\n",
       "      <td>1000000</td>\n",
       "      <td>332323</td>\n",
       "      <td>53</td>\n",
       "      <td>5.2</td>\n",
       "      <td>2004</td>\n",
       "      <td>1.154445e+06</td>\n",
       "      <td>3.836488e+05</td>\n",
       "      <td>275.6</td>\n",
       "    </tr>\n",
       "    <tr>\n",
       "      <th>6</th>\n",
       "      <td>69</td>\n",
       "      <td>12144</td>\n",
       "      <td>1.101103</td>\n",
       "      <td>12300000</td>\n",
       "      <td>84460846</td>\n",
       "      <td>340</td>\n",
       "      <td>6.9</td>\n",
       "      <td>1988</td>\n",
       "      <td>2.267986e+07</td>\n",
       "      <td>1.557366e+08</td>\n",
       "      <td>2346.0</td>\n",
       "    </tr>\n",
       "    <tr>\n",
       "      <th>7</th>\n",
       "      <td>71</td>\n",
       "      <td>31225</td>\n",
       "      <td>0.142836</td>\n",
       "      <td>500000</td>\n",
       "      <td>3779620</td>\n",
       "      <td>27</td>\n",
       "      <td>7.6</td>\n",
       "      <td>1990</td>\n",
       "      <td>8.344493e+05</td>\n",
       "      <td>6.307802e+06</td>\n",
       "      <td>205.2</td>\n",
       "    </tr>\n",
       "    <tr>\n",
       "      <th>8</th>\n",
       "      <td>72</td>\n",
       "      <td>31563</td>\n",
       "      <td>2.460511</td>\n",
       "      <td>40000000</td>\n",
       "      <td>245542682</td>\n",
       "      <td>330</td>\n",
       "      <td>11.8</td>\n",
       "      <td>4005</td>\n",
       "      <td>4.795228e+07</td>\n",
       "      <td>2.940109e+08</td>\n",
       "      <td>1952.4</td>\n",
       "    </tr>\n",
       "    <tr>\n",
       "      <th>9</th>\n",
       "      <td>73</td>\n",
       "      <td>59387</td>\n",
       "      <td>0.225324</td>\n",
       "      <td>10000000</td>\n",
       "      <td>11411644</td>\n",
       "      <td>17</td>\n",
       "      <td>5.6</td>\n",
       "      <td>2002</td>\n",
       "      <td>1.212261e+07</td>\n",
       "      <td>1.383390e+07</td>\n",
       "      <td>95.2</td>\n",
       "    </tr>\n",
       "  </tbody>\n",
       "</table>\n",
       "</div>"
      ],
      "text/plain": [
       "   runtime     id  popularity    budget    revenue  vote_count  vote_average  \\\n",
       "0       15  24914    0.208637        10          5          16           6.8   \n",
       "1       26  14813    0.592219   3000000   21000000          89           7.4   \n",
       "2       42  14301    0.352054    200000          3         140           7.7   \n",
       "3       62  80379    0.331313    250000    1000000          47           7.9   \n",
       "4       63  51162    1.425344  30000000   14460000         174           6.8   \n",
       "5       66     27    1.117300   1000000     332323          53           5.2   \n",
       "6       69  12144    1.101103  12300000   84460846         340           6.9   \n",
       "7       71  31225    0.142836    500000    3779620          27           7.6   \n",
       "8       72  31563    2.460511  40000000  245542682         330          11.8   \n",
       "9       73  59387    0.225324  10000000   11411644          17           5.6   \n",
       "\n",
       "   release_year    budget_adj   revenue_adj  vote_val  \n",
       "0          2003  1.185353e+01  5.926763e+00     108.8  \n",
       "1          1983  6.567936e+06  4.597555e+07     658.6  \n",
       "2          2008  2.025573e+05  3.038360e+00    1078.0  \n",
       "3          2011  2.423495e+05  9.693980e+05     371.3  \n",
       "4          2011  2.908194e+07  1.401750e+07    1183.2  \n",
       "5          2004  1.154445e+06  3.836488e+05     275.6  \n",
       "6          1988  2.267986e+07  1.557366e+08    2346.0  \n",
       "7          1990  8.344493e+05  6.307802e+06     205.2  \n",
       "8          4005  4.795228e+07  2.940109e+08    1952.4  \n",
       "9          2002  1.212261e+07  1.383390e+07      95.2  "
      ]
     },
     "execution_count": 165,
     "metadata": {},
     "output_type": "execute_result"
    }
   ],
   "source": [
    "# Use this, and more code cells, to explore your data. Don't forget to add\n",
    "#   Markdown cells to document your observations and findings.\n",
    "\n",
    "dur_vote = tmdb_df.groupby('runtime', as_index=False).sum()\n",
    "print(dur_vote.shape)\n",
    "dur_vote.head(10)\n"
   ]
  },
  {
   "cell_type": "markdown",
   "metadata": {},
   "source": [
    "### GroupBy issue:\n",
    "Getting average vote after groupby on runtime is tricky.\n",
    "Consider two movies:\n",
    "\n",
    "\n",
    "| movie        | vote_count           | vote_average  |\n",
    "| ------------- |:-------------:| -----:|\n",
    "| 1      | 10 | 5.0 |\n",
    "| 2      | 20      |   7.0 |\n",
    "\n",
    "`tmdb_df.groupby('runtime').mean()['vote_average']`\n",
    "\n",
    "\n",
    "would give __6__\n",
    "\n",
    "but correct average should  be (5x10 + 7x20) / (10+20) = __6.3__\n",
    "\n",
    "For this reason, I've included _vote_val_ column in Dataframe"
   ]
  },
  {
   "cell_type": "code",
   "execution_count": 166,
   "metadata": {},
   "outputs": [
    {
     "name": "stdout",
     "output_type": "stream",
     "text": [
      "Describe vote_average\n",
      " count    138.000000\n",
      "mean       6.831296\n",
      "std        0.552644\n",
      "min        5.200000\n",
      "25%        6.394195\n",
      "50%        6.820483\n",
      "75%        7.200000\n",
      "max        8.100000\n",
      "dtype: float64\n",
      "Describe duration\n",
      " count    138.000000\n",
      "mean     134.224638\n",
      "std       47.485537\n",
      "min       15.000000\n",
      "25%       98.250000\n",
      "50%      132.500000\n",
      "75%      166.750000\n",
      "max      338.000000\n",
      "Name: runtime, dtype: float64\n"
     ]
    }
   ],
   "source": [
    "\n",
    "print(\"Describe vote_average\\n\",(dur_vote['vote_val'] / dur_vote['vote_count']).describe())\n",
    "print(\"Describe duration\\n\", dur_vote['runtime'].describe())"
   ]
  },
  {
   "cell_type": "markdown",
   "metadata": {},
   "source": [
    "### Create a plot to see the pattern between duration in X and average vote in Y"
   ]
  },
  {
   "cell_type": "code",
   "execution_count": 167,
   "metadata": {},
   "outputs": [
    {
     "data": {
      "text/plain": [
       "[<matplotlib.lines.Line2D at 0x1a2b72e6a0>]"
      ]
     },
     "execution_count": 167,
     "metadata": {},
     "output_type": "execute_result"
    },
    {
     "data": {
      "image/png": "[encoded data removed]",
      "text/plain": [
       "<matplotlib.figure.Figure at 0x1a2b72e240>"
      ]
     },
     "metadata": {},
     "output_type": "display_data"
    }
   ],
   "source": [
    "plt.title(\"Trend between duration and average vote\")\n",
    "plt.xlabel(\"duration\")\n",
    "plt.ylabel(\"average_vote\")\n",
    "plt.plot(dur_vote['runtime'], dur_vote['vote_val'] / dur_vote['vote_count'])"
   ]
  },
  {
   "cell_type": "code",
   "execution_count": 168,
   "metadata": {},
   "outputs": [],
   "source": [
    "#Pearson's correlation\n",
    "\n",
    "def correlation(x, y):\n",
    "    xbar = (x - x.mean()) / x.std(ddof=0)\n",
    "    ybar = (y - y.mean()) / y.std(ddof=0)\n",
    "    return (xbar * ybar).mean()\n",
    "\n",
    "#I also need to standardize for profit later on\n",
    "def standardize(series):\n",
    "    return (series - series.min()) / series.std()\n"
   ]
  },
  {
   "cell_type": "code",
   "execution_count": 169,
   "metadata": {},
   "outputs": [
    {
     "name": "stdout",
     "output_type": "stream",
     "text": [
      "Runtime to rating correlation: 0.3476115872104202\n"
     ]
    }
   ],
   "source": [
    "print(\"Runtime to rating correlation: {}\".format(correlation(dur_vote['runtime'], dur_vote['vote_val'] / dur_vote['vote_count'])))"
   ]
  },
  {
   "cell_type": "markdown",
   "metadata": {},
   "source": [
    "### Conclusion\n",
    "Duration of the movie has a weak correlation to its rating. People like good movies, not specifically long or short ones!"
   ]
  },
  {
   "cell_type": "markdown",
   "metadata": {},
   "source": [
    "### Research Question 2: Does longer duration movie require more budget?"
   ]
  },
  {
   "cell_type": "code",
   "execution_count": 170,
   "metadata": {},
   "outputs": [
    {
     "data": {
      "image/png": "[encoded data removed]",
      "text/plain": [
       "<matplotlib.figure.Figure at 0x1a2764fac8>"
      ]
     },
     "metadata": {},
     "output_type": "display_data"
    }
   ],
   "source": [
    "#Does budget linearly increase with movie length?\n",
    "\n",
    "grouped_df = tmdb_df.groupby(['runtime', 'budget_adj'], as_index=False).mean()\n",
    "\n",
    "size = grouped_df['budget_adj'] / grouped_df['budget_adj'].std()\n",
    "plt.title(\"Scatter plot of runtime and budget\")\n",
    "plt.xlabel('runtime (min)')\n",
    "plt.ylabel('budget ')\n",
    "plt.scatter(grouped_df.runtime, grouped_df.budget_adj, alpha=0.5, s=size)\n",
    "plt.show()\n"
   ]
  },
  {
   "cell_type": "code",
   "execution_count": 171,
   "metadata": {},
   "outputs": [
    {
     "name": "stdout",
     "output_type": "stream",
     "text": [
      "Runtime to Budget correlation: 0.3332347129996555\n"
     ]
    }
   ],
   "source": [
    "print(\"Runtime to Budget correlation: {}\".format(correlation(grouped_df['runtime'], grouped_df['budget_adj'])))\n"
   ]
  },
  {
   "cell_type": "markdown",
   "metadata": {},
   "source": [
    "### Conclusion\n",
    "Weak positive correlation between runtime and budget as visible in scatter plot too."
   ]
  },
  {
   "cell_type": "markdown",
   "metadata": {},
   "source": [
    "### Research Question 3: \n",
    "#### a. Does higher revenue need higher budget?\n",
    "#### b. Does higher budget produce more profit? "
   ]
  },
  {
   "cell_type": "code",
   "execution_count": 172,
   "metadata": {
    "scrolled": true
   },
   "outputs": [
    {
     "data": {
      "image/png": "[encoded data removed]",
      "text/plain": [
       "<matplotlib.figure.Figure at 0x1a27253710>"
      ]
     },
     "metadata": {},
     "output_type": "display_data"
    },
    {
     "name": "stdout",
     "output_type": "stream",
     "text": [
      "Budget\n",
      " count    3.822000e+03\n",
      "mean     4.448624e+07\n",
      "std      4.489627e+07\n",
      "min      9.693980e-01\n",
      "25%      1.326685e+07\n",
      "50%      3.029664e+07\n",
      "75%      6.077832e+07\n",
      "max      4.250000e+08\n",
      "Name: budget_adj, dtype: float64\n",
      "\n",
      "\n",
      "Revenue\n",
      " count    3.822000e+03\n",
      "mean     1.380846e+08\n",
      "std      2.167159e+08\n",
      "min      2.370705e+00\n",
      "25%      1.877042e+07\n",
      "50%      6.241213e+07\n",
      "75%      1.648848e+08\n",
      "max      2.827124e+09\n",
      "Name: revenue_adj, dtype: float64\n"
     ]
    }
   ],
   "source": [
    "# Answer 3A: Let's explore budget and revenue\n",
    "\n",
    "fig, axes = plt.subplots(nrows=1, ncols=2, figsize=(15,5))\n",
    "left, right = axes.flatten()\n",
    "\n",
    "left.boxplot(tmdb_df['budget_adj'])\n",
    "left.set_title('budget distribution')\n",
    "left.set_ylabel('Budget')\n",
    "\n",
    "right.boxplot(tmdb_df['revenue_adj'])\n",
    "right.set_title('Revenue distribution')\n",
    "right.set_ylabel('Revenue')\n",
    "\n",
    "fig.tight_layout()\n",
    "plt.show()\n",
    "\n",
    "print(\"Budget\\n\", tmdb_df['budget_adj'].describe())\n",
    "print(\"\\n\\nRevenue\\n\", tmdb_df['revenue_adj'].describe())"
   ]
  },
  {
   "cell_type": "markdown",
   "metadata": {},
   "source": [
    "### Let's see correlation between budget and revenue.\n",
    "Hunch is that higher budget movie generally make higher revenue. There will always be exceptions though!"
   ]
  },
  {
   "cell_type": "code",
   "execution_count": 173,
   "metadata": {},
   "outputs": [
    {
     "data": {
      "text/plain": [
       "<matplotlib.collections.PathCollection at 0x1a2bb97fd0>"
      ]
     },
     "execution_count": 173,
     "metadata": {},
     "output_type": "execute_result"
    },
    {
     "data": {
      "image/png": "[encoded data removed]",
      "text/plain": [
       "<matplotlib.figure.Figure at 0x1a2b7d8518>"
      ]
     },
     "metadata": {},
     "output_type": "display_data"
    }
   ],
   "source": [
    "plt.title(\"Correlation between Budget and revenue vote\")\n",
    "plt.xlabel(\"Budget\")\n",
    "plt.ylabel(\"Revenue\")\n",
    "plt.scatter(tmdb_df['budget_adj'], tmdb_df['revenue_adj'])"
   ]
  },
  {
   "cell_type": "markdown",
   "metadata": {},
   "source": [
    "We see a strong positive correlation between budget and revenue\n",
    "\n",
    "### Quantify Correlation between Budget and Revenue"
   ]
  },
  {
   "cell_type": "code",
   "execution_count": 174,
   "metadata": {},
   "outputs": [
    {
     "name": "stdout",
     "output_type": "stream",
     "text": [
      "Correlation between revenue and budget=0.5692818976110817\n"
     ]
    }
   ],
   "source": [
    "print('Correlation between revenue and budget={}'.format(correlation(tmdb_df['budget_adj'], tmdb_df['revenue_adj'])))\n"
   ]
  },
  {
   "cell_type": "markdown",
   "metadata": {},
   "source": [
    "### Answer 3b: Does higher budget also return higher profit?\n",
    "\n",
    "#### Let's first see Overall profit across movie industry"
   ]
  },
  {
   "cell_type": "code",
   "execution_count": 175,
   "metadata": {},
   "outputs": [
    {
     "name": "stdout",
     "output_type": "stream",
     "text": [
      "Overall profit 210.4%\n"
     ]
    }
   ],
   "source": [
    "#Let's first see if industry as a whole is profit making or not.\n",
    "\n",
    "total_revenue = tmdb_df['revenue_adj'].sum()\n",
    "total_budget = tmdb_df['budget_adj'].sum()\n",
    "profit_ratio = (total_revenue - total_budget)*100 / total_budget\n",
    "print(\"Overall profit {}%\".format(profit_ratio.round(2)))"
   ]
  },
  {
   "cell_type": "code",
   "execution_count": 176,
   "metadata": {
    "scrolled": false
   },
   "outputs": [
    {
     "name": "stdout",
     "output_type": "stream",
     "text": [
      "describe profit\n",
      " count    3.822000e+03\n",
      "mean     9.359839e+07\n",
      "std      1.946883e+08\n",
      "min     -4.139124e+08\n",
      "25%     -1.423599e+06\n",
      "50%      2.804140e+07\n",
      "75%      1.082487e+08\n",
      "max      2.750137e+09\n",
      "Name: profit, dtype: float64\n",
      "\n",
      "\n",
      "Budget to profit correlation= 0.4030861966538418\n"
     ]
    },
    {
     "data": {
      "image/png": "[encoded data removed]",
      "text/plain": [
       "<matplotlib.figure.Figure at 0x1a2b7af9e8>"
      ]
     },
     "metadata": {},
     "output_type": "display_data"
    }
   ],
   "source": [
    "\n",
    "#Creating profit col on original dataframe\n",
    "tmdb_df['profit'] = tmdb_df['revenue_adj'] - tmdb_df['budget_adj']\n",
    "print(\"describe profit\\n\", tmdb_df['profit'].describe())\n",
    "\n",
    "plt.title(\"Scatter between budget and profit\")\n",
    "plt.xlabel(\"Budget\")\n",
    "plt.ylabel(\"profit (standardized)\")\n",
    "plt.scatter(tmdb_df['budget_adj'], standardize(tmdb_df['profit']))\n",
    "\n",
    "#Quantify Budget to profit correlation\n",
    "print(\"\\n\\nBudget to profit correlation=\", correlation(tmdb_df['budget_adj'], tmdb_df['profit']))\n"
   ]
  },
  {
   "cell_type": "markdown",
   "metadata": {},
   "source": [
    "### Conclusion\n",
    "profit is positively correlated to Budget"
   ]
  },
  {
   "cell_type": "markdown",
   "metadata": {},
   "source": [
    "### Research Question 4 : How have critics perceived movie, over the years?\n",
    "\n",
    "Average Ratings of movies year on year"
   ]
  },
  {
   "cell_type": "code",
   "execution_count": 177,
   "metadata": {},
   "outputs": [
    {
     "data": {
      "text/plain": [
       "[<matplotlib.lines.Line2D at 0x1a2bd2f2e8>]"
      ]
     },
     "execution_count": 177,
     "metadata": {},
     "output_type": "execute_result"
    },
    {
     "data": {
      "image/png": "[encoded data removed]",
      "text/plain": [
       "<matplotlib.figure.Figure at 0x1a2802d518>"
      ]
     },
     "metadata": {},
     "output_type": "display_data"
    }
   ],
   "source": [
    "year_rating = tmdb_df.groupby('release_year', as_index=False).sum()\n",
    "\n",
    "plt.title(\"Trend of Average Rating over the years\")\n",
    "plt.xlabel('year')\n",
    "plt.ylabel('average rating')\n",
    "plt.plot(year_rating['release_year'], year_rating['vote_val'] / year_rating['vote_count'])\n"
   ]
  },
  {
   "cell_type": "markdown",
   "metadata": {},
   "source": [
    "### Conclusion\n",
    "#### Movies have received lower rating with time\n",
    "#### There is a negative correlation.\n",
    "#### Critics have been particular harsh after year 2000"
   ]
  },
  {
   "cell_type": "code",
   "execution_count": 178,
   "metadata": {},
   "outputs": [
    {
     "name": "stdout",
     "output_type": "stream",
     "text": [
      "Correlation -0.6722629127503332\n"
     ]
    }
   ],
   "source": [
    "#Confirming the negative correlation visible\n",
    "\n",
    "print(\"Correlation {}\".format(correlation(year_rating['release_year'], year_rating['vote_val'] / year_rating['vote_count'])))"
   ]
  },
  {
   "cell_type": "markdown",
   "metadata": {},
   "source": [
    "### Research Question 5 : Correlation of popularity and budget together on revenue\n",
    "\n",
    "We'll proxy popularity with vote_count"
   ]
  },
  {
   "cell_type": "code",
   "execution_count": 179,
   "metadata": {},
   "outputs": [
    {
     "data": {
      "image/png": "[encoded data removed]",
      "text/plain": [
       "<matplotlib.figure.Figure at 0x1a2ba0a0f0>"
      ]
     },
     "metadata": {},
     "output_type": "display_data"
    }
   ],
   "source": [
    "plt.title(\"Multi dimension visualization of Popularity and Budget correlation wrt Revenue\")\n",
    "plt.xlabel(\"Revenue\")\n",
    "plt.ylabel(\"Standardized vote_count and budget\")\n",
    "plt.scatter(tmdb_df['revenue_adj'], standardize(tmdb_df['vote_count']), alpha=0.5)\n",
    "plt.scatter(tmdb_df['revenue_adj'], standardize(tmdb_df['budget_adj']), alpha=0.5)\n",
    "plt.legend(loc='upper right')\n",
    "plt.show()"
   ]
  },
  {
   "cell_type": "code",
   "execution_count": 180,
   "metadata": {},
   "outputs": [
    {
     "name": "stdout",
     "output_type": "stream",
     "text": [
      "Revenue to Popularity 0.6537570015480298\n",
      "Revenue to budget 0.569281897611085\n"
     ]
    }
   ],
   "source": [
    "print(\"Revenue to Popularity\", correlation(tmdb_df['revenue_adj'], standardize(tmdb_df['vote_count'])))\n",
    "print(\"Revenue to budget\", correlation(tmdb_df['revenue_adj'], standardize(tmdb_df['budget_adj'])))"
   ]
  },
  {
   "cell_type": "markdown",
   "metadata": {},
   "source": [
    "<a id='conclusions'></a>\n",
    "## Conclusions\n",
    "\n",
    "Overall data:\n",
    "- 95% of movies have duration between 41 minutes and 2 hr 23 min\n",
    "- 95% of movies have rating between 4.2 and 7.8.\n",
    "- Voting follows normal distribution pattern.\n",
    "\n",
    "\n",
    "1) Duration and average rating:\n",
    "- weak correlation of 0.26. People like good movies, not specifically long or short ones!\n",
    "\n",
    "\n",
    "2) Duration and budget:\n",
    "- Weak correlation of 0.16. Limitation: Based on the graph, budget was sprayed across all duration, so wasn't able to extract much of it.\n",
    "\n",
    "3) Budget to profit:\n",
    "\n",
    "* Movie has generally been profit making industry. With industry average of 209% profit\n",
    "* High budget fetches high revenue. High Correlation of 0.57\n",
    "* High budget also has positive correlation to higher profit: 0.4 (Looks like causation, but it's not controlled experiment, hence cannot confirm)\n",
    "* Budget doesn't have correlation to profit percentage however. Infact it shows a weak -0.01 correlation\n",
    "\n",
    "\n",
    "4) Rating year on year\n",
    "* Movies have received lower rating with time (-ve correlatin of -0.6)\n",
    "* Critics have been particular harsh after year 2000\n",
    "\n",
    "5) correlation of popularity and budget together on revenue\n",
    "* Higher revenue movies are definitely popular. correlation= 0.65 . It's almost causation- popularity leads to revenue\n",
    "* Higher revenue doesn't come free of cost- It's correlated to high budget. correlation = 0.57\n",
    "\n",
    "I need to ofcourse understand that I've found all these correlations, but they are not causation. If all other variables leading to success of movie was controlled, we could've commented on cause too."
   ]
  }
 ],
 "metadata": {
  "kernelspec": {
   "display_name": "Python 3",
   "language": "python",
   "name": "python3"
  },
  "language_info": {
   "codemirror_mode": {
    "name": "ipython",
    "version": 3
   },
   "file_extension": ".py",
   "mimetype": "text/x-python",
   "name": "python",
   "nbconvert_exporter": "python",
   "pygments_lexer": "ipython3",
   "version": "3.6.4"
  }
 },
 "nbformat": 4,
 "nbformat_minor": 2
}
